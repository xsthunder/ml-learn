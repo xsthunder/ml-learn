{
 "cells": [
  {
   "cell_type": "markdown",
   "metadata": {},
   "source": [
    "# CRF及numpy矩阵运算\n",
    "\n",
    "## 参考\n",
    "\n",
    "[简明条件随机场CRF介绍（附带纯Keras实现） - 科学空间|Scientific Spaces](https://kexue.fm/archives/5542)\n",
    "\n",
    "[bojone/crf: keras implementation of conditional random field](https://github.com/bojone/crf)"
   ]
  },
  {
   "cell_type": "code",
   "execution_count": 62,
   "metadata": {
    "ExecuteTime": {
     "end_time": "2020-03-02T03:37:56.355126Z",
     "start_time": "2020-03-02T03:37:56.350130Z"
    }
   },
   "outputs": [],
   "source": [
    "import numpy as np"
   ]
  },
  {
   "cell_type": "code",
   "execution_count": 63,
   "metadata": {
    "ExecuteTime": {
     "end_time": "2020-03-02T03:37:56.608547Z",
     "start_time": "2020-03-02T03:37:56.597550Z"
    }
   },
   "outputs": [
    {
     "data": {
      "text/plain": [
       "array([[-1.50413628, -0.68863308, -0.82031784, -1.73656058],\n",
       "       [ 1.55822081,  1.08684108,  0.91119449,  0.20332897],\n",
       "       [ 2.13036346,  1.07923045,  0.08253849,  1.46765686],\n",
       "       [ 1.90493853,  0.48238535, -0.52394967, -0.31904003]])"
      ]
     },
     "execution_count": 63,
     "metadata": {},
     "output_type": "execute_result"
    }
   ],
   "source": [
    "num_labels = 4 # 没有无效标记\n",
    "trans = np.random.normal(size=(num_labels, num_labels)); trans "
   ]
  },
  {
   "cell_type": "markdown",
   "metadata": {
    "heading_collapsed": true
   },
   "source": [
    "### utils"
   ]
  },
  {
   "cell_type": "code",
   "execution_count": 64,
   "metadata": {
    "ExecuteTime": {
     "end_time": "2020-03-02T03:37:57.568007Z",
     "start_time": "2020-03-02T03:37:57.556004Z"
    },
    "hidden": true
   },
   "outputs": [
    {
     "data": {
      "text/plain": [
       "array([[0., 1., 0.],\n",
       "       [0., 0., 1.]])"
      ]
     },
     "execution_count": 64,
     "metadata": {},
     "output_type": "execute_result"
    }
   ],
   "source": [
    "def index2onehot(index, num=None):\n",
    "    index = np.array(index)\n",
    "    assert index.ndim == 1\n",
    "    num = max(index) + 1 if num is None else num \n",
    "    mn = min(index)\n",
    "    mx = max(index)\n",
    "    test = lambda x: 0 < x and x < num\n",
    "    err_str = lambda x: \"wrong value %s \\\n",
    "                    in index with num %s\"%(x, num)\n",
    "    assert test(mn), err_str(mn)\n",
    "    assert test(mx), err_str(mx)\n",
    "\n",
    "    return np.eye(num)[index]\n",
    "index2onehot([1,2])\n",
    "# index2onehot(1)"
   ]
  },
  {
   "cell_type": "code",
   "execution_count": 65,
   "metadata": {
    "ExecuteTime": {
     "end_time": "2020-03-02T03:37:59.060675Z",
     "start_time": "2020-03-02T03:37:59.049680Z"
    },
    "hidden": true
   },
   "outputs": [],
   "source": [
    "def onehot2index(onehot):\n",
    "    onehot = np.array(onehot)\n",
    "    assert np.alltrue( np.sum(abs(onehot), -1) == 1 ), \"should be onehot\"\n",
    "    return np.argmax(onehot, -1)\n",
    "assert onehot2index([0,0,1]) == 2\n",
    "assert np.alltrue(\n",
    "    onehot2index(\n",
    "    [\n",
    "        [1, 0, 0],\n",
    "        [0, 1, 0],\n",
    "    ]\n",
    ") == [0, 1])"
   ]
  },
  {
   "cell_type": "markdown",
   "metadata": {},
   "source": [
    "# test CRF.path_score"
   ]
  },
  {
   "cell_type": "markdown",
   "metadata": {},
   "source": [
    "## init"
   ]
  },
  {
   "cell_type": "code",
   "execution_count": 3,
   "metadata": {
    "ExecuteTime": {
     "end_time": "2020-03-02T02:48:55.437110Z",
     "start_time": "2020-03-02T02:48:55.416122Z"
    },
    "code_folding": []
   },
   "outputs": [],
   "source": [
    "### y_pred -> inputs@(samples_len, max_seq_len, label_len )\n",
    "# y_true -> labels@(samples_len, max_seq_len, label_len )\n",
    "inputs = np.array(\n",
    "[\n",
    "    # two samples\n",
    "        # seq_len 2, max_len 3\n",
    "        [\n",
    "            # 4 tags\n",
    "            [0.1, 0.4, 0.5, 0],\n",
    "            [0.1, 0.4, 0.5, 0],\n",
    "            [0,0,0, 1],\n",
    "        ],\n",
    "        # seq_len 2, max_len 3\n",
    "        [\n",
    "            # 4 tags\n",
    "            [0.2, 0.4, 0.5, 0],\n",
    "            [0.2, 0.4, 0.5, 0],\n",
    "            [0, 0, 0,  1],\n",
    "        ],\n",
    "]\n",
    ")"
   ]
  },
  {
   "cell_type": "code",
   "execution_count": 110,
   "metadata": {
    "ExecuteTime": {
     "end_time": "2020-03-02T09:53:02.593854Z",
     "start_time": "2020-03-02T09:53:02.583862Z"
    }
   },
   "outputs": [],
   "source": [
    "LABELS=[\n",
    "    [1,2,3],\n",
    "    [3,3,3],\n",
    "]"
   ]
  },
  {
   "cell_type": "code",
   "execution_count": 111,
   "metadata": {
    "ExecuteTime": {
     "end_time": "2020-03-02T09:53:15.155136Z",
     "start_time": "2020-03-02T09:53:15.145140Z"
    },
    "code_folding": []
   },
   "outputs": [],
   "source": [
    "from functools import partial\n",
    "f = partial(index2onehot, num=4)\n",
    "labels = map(f, LABELS)\n",
    "labels  = np.array(labels)"
   ]
  },
  {
   "cell_type": "code",
   "execution_count": 5,
   "metadata": {
    "ExecuteTime": {
     "end_time": "2020-03-02T02:48:55.487601Z",
     "start_time": "2020-03-02T02:48:55.457619Z"
    }
   },
   "outputs": [
    {
     "data": {
      "text/plain": [
       "((2, 3, 4), (2, 3, 4))"
      ]
     },
     "execution_count": 5,
     "metadata": {},
     "output_type": "execute_result"
    }
   ],
   "source": [
    "inputs.shape, labels.shape"
   ]
  },
  {
   "cell_type": "markdown",
   "metadata": {},
   "source": [
    "## point_score"
   ]
  },
  {
   "cell_type": "markdown",
   "metadata": {},
   "source": [
    "point_score = $\\sum_{k=1}^{n}{h(y_k;\\boldsymbol{x})}$"
   ]
  },
  {
   "cell_type": "code",
   "execution_count": 6,
   "metadata": {
    "ExecuteTime": {
     "end_time": "2020-03-02T02:48:55.507590Z",
     "start_time": "2020-03-02T02:48:55.491598Z"
    }
   },
   "outputs": [
    {
     "data": {
      "text/plain": [
       "(array([[[0.1, 0. , 0. , 0. ],\n",
       "         [0. , 0.4, 0. , 0. ],\n",
       "         [0. , 0. , 0. , 1. ]],\n",
       " \n",
       "        [[0. , 0.4, 0. , 0. ],\n",
       "         [0. , 0.4, 0. , 0. ],\n",
       "         [0. , 0. , 0. , 1. ]]]), (2, 3, 4))"
      ]
     },
     "execution_count": 6,
     "metadata": {},
     "output_type": "execute_result"
    }
   ],
   "source": [
    "mask_inputs_by_labels = inputs*labels;\n",
    "# shape sample, max_seq_len, tags_num\n",
    "mask_inputs_by_labels, mask_inputs_by_labels.shape \n",
    "# takes those matters in y_pred"
   ]
  },
  {
   "cell_type": "code",
   "execution_count": 7,
   "metadata": {
    "ExecuteTime": {
     "end_time": "2020-03-02T02:48:55.533574Z",
     "start_time": "2020-03-02T02:48:55.512586Z"
    }
   },
   "outputs": [
    {
     "data": {
      "text/plain": [
       "(array([[0.1, 0.4, 1. ],\n",
       "        [0.4, 0.4, 1. ]]), (2, 3))"
      ]
     },
     "execution_count": 7,
     "metadata": {},
     "output_type": "execute_result"
    }
   ],
   "source": [
    "sum_tags_scroe = np.sum(mask_inputs_by_labels,2);\n",
    "sum_tags_scroe, sum_tags_scroe.shape \n",
    "# sum tags score, shape (sample, max_seq_len) "
   ]
  },
  {
   "cell_type": "code",
   "execution_count": 8,
   "metadata": {
    "ExecuteTime": {
     "end_time": "2020-03-02T02:48:55.556561Z",
     "start_time": "2020-03-02T02:48:55.539572Z"
    }
   },
   "outputs": [
    {
     "data": {
      "text/plain": [
       "(array([[1.5],\n",
       "        [1.8]]), (2, 1))"
      ]
     },
     "execution_count": 8,
     "metadata": {},
     "output_type": "execute_result"
    }
   ],
   "source": [
    "sum_seq_score = np.sum(sum_tags_scroe, 1,\n",
    "                       keepdims=True # keep the dim as 1\n",
    "                      ); sum_seq_score, sum_seq_score.shape\n",
    "# shape, (sample, 1)"
   ]
  },
  {
   "cell_type": "code",
   "execution_count": 9,
   "metadata": {
    "ExecuteTime": {
     "end_time": "2020-03-02T02:48:55.573554Z",
     "start_time": "2020-03-02T02:48:55.560559Z"
    }
   },
   "outputs": [],
   "source": [
    "point_score = sum_seq_score"
   ]
  },
  {
   "cell_type": "markdown",
   "metadata": {
    "ExecuteTime": {
     "end_time": "2020-02-29T11:27:46.540851Z",
     "start_time": "2020-02-29T11:27:46.537854Z"
    }
   },
   "source": [
    "## trans_score "
   ]
  },
  {
   "cell_type": "markdown",
   "metadata": {
    "ExecuteTime": {
     "end_time": "2020-02-29T11:29:00.345817Z",
     "start_time": "2020-02-29T11:29:00.339819Z"
    }
   },
   "source": [
    "$trans\\_score = \\sum_{k=1}^{n-1}{g(y_k,y_{k+1})}$"
   ]
  },
  {
   "cell_type": "code",
   "execution_count": 10,
   "metadata": {
    "ExecuteTime": {
     "end_time": "2020-03-02T02:48:55.597538Z",
     "start_time": "2020-03-02T02:48:55.578550Z"
    }
   },
   "outputs": [
    {
     "data": {
      "text/plain": [
       "((2, 3, 4), array([[[1, 0, 0, 0],\n",
       "         [0, 1, 0, 0],\n",
       "         [0, 0, 0, 1]],\n",
       " \n",
       "        [[0, 1, 0, 0],\n",
       "         [0, 1, 0, 0],\n",
       "         [0, 0, 0, 1]]]))"
      ]
     },
     "execution_count": 10,
     "metadata": {},
     "output_type": "execute_result"
    }
   ],
   "source": [
    "labels.shape, labels\n",
    "# labels1, labels2，在max_seq_len轴上错开一位"
   ]
  },
  {
   "cell_type": "markdown",
   "metadata": {},
   "source": [
    "expand_dims 's axis is different for labels1 and labels2 so that `new_labels.shape == (sample_len, max_seq_len ,num_labels - 1, num_labels -1)`"
   ]
  },
  {
   "cell_type": "code",
   "execution_count": 22,
   "metadata": {
    "ExecuteTime": {
     "end_time": "2020-03-02T03:00:44.282437Z",
     "start_time": "2020-03-02T03:00:44.269444Z"
    }
   },
   "outputs": [
    {
     "name": "stdout",
     "output_type": "stream",
     "text": [
      "[1 2 3] [-4 -3 -2]\n",
      "\n",
      "[[ -4  -8 -12]\n",
      " [ -3  -6  -9]\n",
      " [ -2  -4  -6]] -4\n",
      "\n",
      "[[ -4  -8 -12]\n",
      " [ -3  -6  -9]\n",
      " [ -2  -4  -6]] -4\n"
     ]
    }
   ],
   "source": [
    "# vector v @ transpose(w) multiply trick\n",
    "tmp1 = np.arange(1,4)\n",
    "tmp2 = np.arange(-4, -1)\n",
    "print(tmp1, tmp2)\n",
    "print()\n",
    "\n",
    "# 矩阵乘法，行列一个dim都不能少\n",
    "tmp1 = tmp1.reshape(3,1)\n",
    "tmp2 = tmp2.reshape(3,1)\n",
    "\n",
    "ans1 = tmp2 @ np.transpose(tmp1) # 1式\n",
    "# 布局不一样，保证先行再列\n",
    "print(ans1, ans1[2,1])\n",
    "\n",
    "\n",
    "print()\n",
    "\n",
    "tmp1 = np.arange(1,4)\n",
    "tmp2 = np.arange(-4, -1)\n",
    "# 布局和np有点不一样，最里面是列\n",
    "tmp1 = np.expand_dims(tmp1, -2) # 留出空间，允许广播，当列\n",
    "tmp2 = np.expand_dims(tmp2, -1) # 扩展最后一维的，相当于转置的，不同一个元素按顺序给不同列作系数，构成方阵\n",
    "# 扩展倒数第二维的做模板，相当于1式的np.transpose(tmp1)，\n",
    "# 扩展倒数第一维的做系数，相当于1式的np.transpose(tmp2)\n",
    "# [ 系数1*[模板], 系数2*[模板], ... ]\n",
    "# 这样做的好处是整体逻辑还是按位乘法，方便带batch_size和seq_len的时候微操\n",
    "ans2 = tmp1 * tmp2\n",
    "print(ans2, ans2[2,1])\n",
    "\n",
    "assert np.allclose(ans1, ans2)"
   ]
  },
  {
   "cell_type": "code",
   "execution_count": 100,
   "metadata": {
    "ExecuteTime": {
     "end_time": "2020-03-02T09:48:47.056865Z",
     "start_time": "2020-03-02T09:48:47.051866Z"
    }
   },
   "outputs": [],
   "source": [
    "# onehot下 取列index\n",
    "t1 = labels[:, :-1]\n",
    "labels1 = np.expand_dims(t1, 3); \n",
    "# labels1.shape, labels1"
   ]
  },
  {
   "cell_type": "code",
   "execution_count": 101,
   "metadata": {
    "ExecuteTime": {
     "end_time": "2020-03-02T09:48:47.280739Z",
     "start_time": "2020-03-02T09:48:47.275739Z"
    }
   },
   "outputs": [],
   "source": [
    "# onehot下 取行index\n",
    "t2 = labels[:, 1:]\n",
    "labels2 = np.expand_dims(t2, 2); \n",
    "# labels2.shape, labels2"
   ]
  },
  {
   "cell_type": "code",
   "execution_count": 127,
   "metadata": {
    "ExecuteTime": {
     "end_time": "2020-03-02T10:01:25.703228Z",
     "start_time": "2020-03-02T10:01:25.699235Z"
    }
   },
   "outputs": [],
   "source": [
    "new_labels = labels1 * labels2"
   ]
  },
  {
   "cell_type": "markdown",
   "metadata": {},
   "source": [
    "$[y_i, y_{i+1}] = 1$, else = 0, 0<=i<num"
   ]
  },
  {
   "cell_type": "code",
   "execution_count": 126,
   "metadata": {
    "ExecuteTime": {
     "end_time": "2020-03-02T10:00:50.486860Z",
     "start_time": "2020-03-02T10:00:50.478864Z"
    }
   },
   "outputs": [],
   "source": [
    "# print(LABELS[0])\n",
    "for sen, tok_idx in zip(new_labels, LABELS):\n",
    "    sen= np.copy(sen)\n",
    "    \n",
    "    for i, tok_id in enumerate(tok_idx[:-1]):\n",
    "        \n",
    "        nxt_tok_id = tok_idx[i+1]\n",
    "        sen[i][tok_id, nxt_tok_id] -= 1\n",
    "        \n",
    "    assert np.allclose(sen, 0), sen"
   ]
  },
  {
   "cell_type": "code",
   "execution_count": 143,
   "metadata": {
    "ExecuteTime": {
     "end_time": "2020-03-02T10:11:53.444858Z",
     "start_time": "2020-03-02T10:11:53.436862Z"
    }
   },
   "outputs": [],
   "source": [
    "t_trans = trans[None, None, :] # 加入batch_size, seq_len\n",
    "assert t_trans.ndim == new_labels.ndim # 对齐\n",
    "tmp = t_trans * new_labels  # 最后两维是只有一个非零元的矩阵\n",
    "tmp1 = np.sum(tmp, (-1, -2) ) # 把这个元素拿出来\n",
    "tmp2 = np.sum(tmp1, -1, keepdims=True)\n",
    "tmp2 # 每一个batch剩下一个分数\n",
    "trans_score = tmp2"
   ]
  },
  {
   "cell_type": "markdown",
   "metadata": {},
   "source": [
    "### sum up"
   ]
  },
  {
   "cell_type": "code",
   "execution_count": 146,
   "metadata": {
    "ExecuteTime": {
     "end_time": "2020-03-02T10:12:28.689760Z",
     "start_time": "2020-03-02T10:12:28.683765Z"
    }
   },
   "outputs": [
    {
     "data": {
      "text/plain": [
       "(array([[ 2.37885135],\n",
       "        [-0.63808006]]), array([[1.5],\n",
       "        [1.8]]))"
      ]
     },
     "execution_count": 146,
     "metadata": {},
     "output_type": "execute_result"
    }
   ],
   "source": [
    "trans_score , point_score"
   ]
  },
  {
   "cell_type": "code",
   "execution_count": 145,
   "metadata": {
    "ExecuteTime": {
     "end_time": "2020-03-02T10:12:17.182498Z",
     "start_time": "2020-03-02T10:12:17.175523Z"
    }
   },
   "outputs": [
    {
     "data": {
      "text/plain": [
       "array([[3.87885135],\n",
       "       [1.16191994]])"
      ]
     },
     "execution_count": 145,
     "metadata": {},
     "output_type": "execute_result"
    }
   ],
   "source": [
    "path_score = trans_score + point_score\n",
    "path_score "
   ]
  },
  {
   "cell_type": "markdown",
   "metadata": {},
   "source": [
    "# test CRF.loss"
   ]
  },
  {
   "cell_type": "code",
   "execution_count": null,
   "metadata": {},
   "outputs": [],
   "source": []
  }
 ],
 "metadata": {
  "kernelspec": {
   "display_name": "Python 3",
   "language": "python",
   "name": "python3"
  },
  "language_info": {
   "codemirror_mode": {
    "name": "ipython",
    "version": 3
   },
   "file_extension": ".py",
   "mimetype": "text/x-python",
   "name": "python",
   "nbconvert_exporter": "python",
   "pygments_lexer": "ipython3",
   "version": "3.7.4"
  }
 },
 "nbformat": 4,
 "nbformat_minor": 2
}
